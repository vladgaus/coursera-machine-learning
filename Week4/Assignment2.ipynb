{
 "cells": [
  {
   "cell_type": "code",
   "execution_count": 60,
   "metadata": {
    "collapsed": false
   },
   "outputs": [
    {
     "name": "stdout",
     "output_type": "stream",
     "text": [
      "Components:\n",
      "[ 0.73897118  0.11007169  0.04995088  0.0287492   0.02215448  0.01931577\n",
      "  0.00674853  0.00614091  0.00320594  0.00305611]\n",
      "\n",
      "Pirson k.:\n",
      "[[ 1.          0.90965222]\n",
      " [ 0.90965222  1.        ]]\n",
      "\n",
      "Max weight in 1-st component: \t0.579683945747\n",
      "Max index in 1-st component: \t26\n"
     ]
    }
   ],
   "source": [
    "import pandas\n",
    "import numpy as np\n",
    "from sklearn.decomposition import PCA\n",
    "\n",
    "# get data\n",
    "data = pandas.read_csv('close_prices.csv')\n",
    "\n",
    "# prepare train features\n",
    "X_train = np.array(data[['AXP', 'BA', 'CAT', 'CSCO', 'CVX', 'DD', 'DIS', 'GE', 'GS', 'HD', 'IBM', 'INTC', 'JNJ', 'JPM', 'KO', \n",
    "                         'MCD', 'MMM', 'MRK', 'MSFT', 'NKE', 'PFE', 'PG', 'T', 'TRV', 'UNH', 'UTX', 'V', 'VZ', 'WMT', 'XOM']])\n",
    "\n",
    "# start train with PCA\n",
    "pca = PCA(n_components=10)\n",
    "pca.fit(X_train)\n",
    "print('Components:')\n",
    "print(pca.explained_variance_ratio_)\n",
    "print()\n",
    "# we can see, thatf for 90% of dispersion enougth first 4 components, \n",
    "# becouse 0.73897118 + 0.11007169 + 0.04995088 + 0.0287492 ~ 90%\n",
    "\n",
    "# get first component\n",
    "first_component = pca.explained_variance_ratio_[0]\n",
    "\n",
    "# get data from Dow Jones index\n",
    "data_dj = pandas.read_csv('djia_index.csv')\n",
    "DJ = np.array(data_dj['^DJI'])\n",
    "\n",
    "# get transform for 1-st component\n",
    "first_component = pca.transform(X_train)[0:,0]\n",
    "\n",
    "# calculate Pirson\n",
    "print('Pirson k.:')\n",
    "print(np.corrcoef(DJ, first_component))\n",
    "# Pirson k-t ~ 0.91\n",
    "print()\n",
    "\n",
    "# find index of company with max weight in first component\n",
    "weight = -999\n",
    "index = 0\n",
    "for i in range(len(pca.components_[0])):\n",
    "    if pca.components_[0][i] > weight:\n",
    "        weight = pca.components_[0][i]\n",
    "        index = i\n",
    "\n",
    "print('Max weight in 1-st component: ' + '\\t' + str(weight))\n",
    "print('Max index in 1-st component: ' + '\\t' + str(index))\n",
    "# index = 26. It's company 'V'"
   ]
  },
  {
   "cell_type": "code",
   "execution_count": null,
   "metadata": {
    "collapsed": true
   },
   "outputs": [],
   "source": []
  }
 ],
 "metadata": {
  "kernelspec": {
   "display_name": "Python 3",
   "language": "python",
   "name": "python3"
  },
  "language_info": {
   "codemirror_mode": {
    "name": "ipython",
    "version": 3
   },
   "file_extension": ".py",
   "mimetype": "text/x-python",
   "name": "python",
   "nbconvert_exporter": "python",
   "pygments_lexer": "ipython3",
   "version": "3.5.1"
  }
 },
 "nbformat": 4,
 "nbformat_minor": 0
}
