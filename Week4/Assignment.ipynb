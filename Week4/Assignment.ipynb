{
 "cells": [
  {
   "cell_type": "code",
   "execution_count": 61,
   "metadata": {
    "collapsed": false
   },
   "outputs": [
    {
     "name": "stdout",
     "output_type": "stream",
     "text": [
      "[ 56963.64408442  37497.57446373]\n"
     ]
    }
   ],
   "source": [
    "import re\n",
    "import pandas\n",
    "import numpy as np\n",
    "from sklearn.feature_extraction.text import TfidfVectorizer\n",
    "from sklearn.feature_extraction import DictVectorizer\n",
    "from scipy.sparse import hstack\n",
    "from sklearn.linear_model import Ridge\n",
    "\n",
    "# get test data\n",
    "data_test = pandas.read_csv('salary-test-mini.csv')\n",
    "\n",
    "# get train data\n",
    "data = pandas.read_csv('salary-train.csv')\n",
    "\n",
    "# convert FullDescription (use TF-IDF) for train\n",
    "data['FullDescription'] = data['FullDescription'].apply(lambda x: re.sub('[^a-zA-Z0-9]', ' ', x.lower()))\n",
    "vectorizer = TfidfVectorizer()\n",
    "FullDescription_TF_IDF = vectorizer.fit_transform(data['FullDescription'])\n",
    "\n",
    "# convert FullDescription (use TF-IDF) for test\n",
    "data_test['FullDescription'] = data_test['FullDescription'].apply(lambda x: re.sub('[^a-zA-Z0-9]', ' ', x.lower()))\n",
    "FullDescription_TF_IDF_test = vectorizer.transform(data_test['FullDescription'])\n",
    "\n",
    "# replace empty to nan for train\n",
    "data['LocationNormalized'].fillna('nan', inplace=True)\n",
    "data['ContractTime'].fillna('nan', inplace=True)\n",
    "\n",
    "# replace empty to nan for test\n",
    "data_test['LocationNormalized'].fillna('nan', inplace=True)\n",
    "data_test['ContractTime'].fillna('nan', inplace=True)\n",
    "\n",
    "# use one-hot convert for train\n",
    "enc = DictVectorizer()\n",
    "m_train_features = enc.fit_transform(data[['LocationNormalized', 'ContractTime']].to_dict('records'))\n",
    "\n",
    "# use one-hot convert for test\n",
    "m_test_features = enc.transform(data_test[['LocationNormalized', 'ContractTime']].to_dict('records'))\n",
    "\n",
    "# combine in 1 matrix for train\n",
    "train_features = hstack([FullDescription_TF_IDF, m_train_features])\n",
    "\n",
    "# combine in 1 matrix for test\n",
    "test_features = hstack([FullDescription_TF_IDF_test, m_test_features])\n",
    "\n",
    "# train\n",
    "clf = Ridge(alpha=1.0)\n",
    "clf.fit(train_features, data['SalaryNormalized'])\n",
    "\n",
    "# predict\n",
    "print(clf.predict(test_features))"
   ]
  },
  {
   "cell_type": "code",
   "execution_count": null,
   "metadata": {
    "collapsed": true
   },
   "outputs": [],
   "source": []
  }
 ],
 "metadata": {
  "kernelspec": {
   "display_name": "Python 3",
   "language": "python",
   "name": "python3"
  },
  "language_info": {
   "codemirror_mode": {
    "name": "ipython",
    "version": 3
   },
   "file_extension": ".py",
   "mimetype": "text/x-python",
   "name": "python",
   "nbconvert_exporter": "python",
   "pygments_lexer": "ipython3",
   "version": "3.5.1"
  }
 },
 "nbformat": 4,
 "nbformat_minor": 0
}
