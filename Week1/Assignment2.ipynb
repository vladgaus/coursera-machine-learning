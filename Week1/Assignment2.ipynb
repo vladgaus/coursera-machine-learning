{
 "cells": [
  {
   "cell_type": "code",
   "execution_count": 1,
   "metadata": {
    "collapsed": false
   },
   "outputs": [
    {
     "name": "stdout",
     "output_type": "stream",
     "text": [
      "[ 0.10534322  0.32409699  0.25938396  0.31117584]\n"
     ]
    }
   ],
   "source": [
    "import pandas\n",
    "import numpy as np\n",
    "from sklearn.tree import DecisionTreeClassifier\n",
    "from sklearn.feature_extraction import DictVectorizer\n",
    "\n",
    "# get data from csv file\n",
    "data = pandas.read_csv('titanic.csv', index_col='PassengerId')\n",
    "\n",
    "# get four columns for fit\n",
    "cl, fare, age, sex, surv = [], [], [], [], []\n",
    "for i in range(1, len(data['Pclass'])+1):\n",
    "    if not np.isnan(data['Pclass'][i]):\n",
    "        cl.append(data['Pclass'][i])\n",
    "    if not np.isnan(data['Fare'][i]):\n",
    "        fare.append(data['Fare'][i])\n",
    "    # if empty, delete\n",
    "    if not np.isnan(data['Age'][i]):\n",
    "        age.append(data['Age'][i])\n",
    "    else:\n",
    "        age.append(0)\n",
    "    if str(data['Sex'][i]) != 'nan':\n",
    "        # because DecisionTreeClassifier not working with string type, we replace to int numbers\n",
    "        # male will be 0, female 1\n",
    "        if data['Sex'][i] == 'male':\n",
    "            sex.append(0)\n",
    "        else:\n",
    "            sex.append(1)\n",
    "    surv.append(data['Survived'][i])\n",
    "\n",
    "# prepare training input samples\n",
    "res = []\n",
    "for i in range(len(cl)):\n",
    "    t = []\n",
    "    t.append(cl[i])\n",
    "    t.append(fare[i])\n",
    "    t.append(age[i])\n",
    "    t.append(sex[i])\n",
    "    res.append(t)\n",
    "\n",
    "# start learn\n",
    "X = np.array(res)\n",
    "y = np.array(surv)\n",
    "clf = DecisionTreeClassifier(random_state=241)\n",
    "clf.fit(X, y)\n",
    "print(clf.feature_importances_)\n",
    "# Now we can sort by featers:\n",
    "# 1. Fare\n",
    "# 2. Sex\n",
    "# 3. Age\n",
    "# 4. Pclass"
   ]
  },
  {
   "cell_type": "code",
   "execution_count": null,
   "metadata": {
    "collapsed": true
   },
   "outputs": [],
   "source": []
  }
 ],
 "metadata": {
  "kernelspec": {
   "display_name": "Python 3",
   "language": "python",
   "name": "python3"
  },
  "language_info": {
   "codemirror_mode": {
    "name": "ipython",
    "version": 3
   },
   "file_extension": ".py",
   "mimetype": "text/x-python",
   "name": "python",
   "nbconvert_exporter": "python",
   "pygments_lexer": "ipython3",
   "version": "3.5.1"
  }
 },
 "nbformat": 4,
 "nbformat_minor": 0
}
