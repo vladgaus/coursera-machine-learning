{
 "cells": [
  {
   "cell_type": "code",
   "execution_count": 1,
   "metadata": {
    "collapsed": false
   },
   "outputs": [
    {
     "name": "stdout",
     "output_type": "stream",
     "text": [
      "[[  8.39134734e+00   1.55384365e+01  -8.82911684e-01 ...,   3.62247922e+01\n",
      "   -1.03344903e+01  -6.81956059e-01]\n",
      " [ -2.63484634e+01   4.13311500e+00  -3.54648380e+00 ...,  -1.07870585e+00\n",
      "   -3.17640000e+00   1.90466279e+00]\n",
      " [  9.92900244e+00   1.28108207e+00   5.38900075e+00 ...,  -1.13355586e+01\n",
      "    1.41350419e+01   9.24395328e+00]\n",
      " ..., \n",
      " [ -1.19193213e+01   4.14367897e+00  -9.83689767e+00 ...,   2.05866105e+01\n",
      "    1.32560397e+01  -1.15775863e+01]\n",
      " [  6.42202889e-01  -9.33235585e+00   1.15816485e+01 ...,   1.21746931e+01\n",
      "   -1.80375505e+00  -1.13451559e+01]\n",
      " [  4.48853992e+00  -4.11673247e-01  -1.82957567e-02 ...,  -1.04227444e+01\n",
      "   -1.27524507e+01   1.23571913e+01]]\n"
     ]
    }
   ],
   "source": [
    "#Нормировка матрицы\n",
    "import numpy as np\n",
    "X = np.random.normal(loc=1, scale=10, size=(1000, 50))\n",
    "print(X)"
   ]
  },
  {
   "cell_type": "code",
   "execution_count": 2,
   "metadata": {
    "collapsed": false
   },
   "outputs": [
    {
     "name": "stdout",
     "output_type": "stream",
     "text": [
      "[[ 0.72135759  1.53105732 -0.13761414 ...,  3.56845339 -1.0565304\n",
      "  -0.13185965]\n",
      " [-2.64959823  0.3638527  -0.40709422 ..., -0.22158035 -0.35878962\n",
      "   0.1271653 ]\n",
      " [ 0.87056299  0.07197965  0.49693051 ..., -1.26367613  1.32865753\n",
      "   0.8621245 ]\n",
      " ..., \n",
      " [-1.24947544  0.36493381 -1.04351071 ...,  1.97961483  1.24297606\n",
      "  -1.22295201]\n",
      " [-0.0305758  -1.01418471  1.12345576 ...,  1.12496439 -0.22498991\n",
      "  -1.19967633]\n",
      " [ 0.34265111 -0.10125455 -0.05013884 ..., -1.17093425 -1.29222309\n",
      "   1.17388527]]\n"
     ]
    }
   ],
   "source": [
    "#Код для самопроверки\n",
    "m = np.mean(X, axis=0)\n",
    "std = np.std(X, axis=0)\n",
    "X_norm = ((X - m)  / std)\n",
    "print(X_norm)"
   ]
  },
  {
   "cell_type": "code",
   "execution_count": 4,
   "metadata": {
    "collapsed": false
   },
   "outputs": [
    {
     "name": "stdout",
     "output_type": "stream",
     "text": [
      "(array([1, 4, 5], dtype=int64),)\n"
     ]
    }
   ],
   "source": [
    "#Операции над элементами матрицы\n",
    "Z = np.array([[4, 5, 0], \n",
    "             [1, 9, 3],              \n",
    "             [5, 1, 1],\n",
    "             [3, 3, 3], \n",
    "             [9, 9, 9], \n",
    "             [4, 7, 1]])\n",
    "r = np.sum(Z, axis=1)\n",
    "print(np.nonzero(r > 10))"
   ]
  },
  {
   "cell_type": "code",
   "execution_count": 7,
   "metadata": {
    "collapsed": false
   },
   "outputs": [
    {
     "name": "stdout",
     "output_type": "stream",
     "text": [
      "[[ 1.  0.  0.]\n",
      " [ 0.  1.  0.]\n",
      " [ 0.  0.  1.]]\n",
      "[[ 1.  0.  0.]\n",
      " [ 0.  1.  0.]\n",
      " [ 0.  0.  1.]]\n",
      "\n",
      "Объединённая матрица:\n",
      "[[ 1.  0.  0.]\n",
      " [ 0.  1.  0.]\n",
      " [ 0.  0.  1.]\n",
      " [ 1.  0.  0.]\n",
      " [ 0.  1.  0.]\n",
      " [ 0.  0.  1.]]\n"
     ]
    }
   ],
   "source": [
    "#Объединение матриц\n",
    "A = np.eye(3)\n",
    "B = np.eye(3)\n",
    "print(A)\n",
    "print(B)\n",
    "print()\n",
    "print('Объединённая матрица:')\n",
    "AB = np.vstack((A, B))\n",
    "print(AB)"
   ]
  },
  {
   "cell_type": "code",
   "execution_count": null,
   "metadata": {
    "collapsed": true
   },
   "outputs": [],
   "source": []
  }
 ],
 "metadata": {
  "kernelspec": {
   "display_name": "Python 3",
   "language": "python",
   "name": "python3"
  },
  "language_info": {
   "codemirror_mode": {
    "name": "ipython",
    "version": 3
   },
   "file_extension": ".py",
   "mimetype": "text/x-python",
   "name": "python",
   "nbconvert_exporter": "python",
   "pygments_lexer": "ipython3",
   "version": "3.5.1"
  }
 },
 "nbformat": 4,
 "nbformat_minor": 0
}
