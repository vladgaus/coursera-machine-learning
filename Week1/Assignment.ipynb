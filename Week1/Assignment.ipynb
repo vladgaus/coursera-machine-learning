{
 "cells": [
  {
   "cell_type": "code",
   "execution_count": 14,
   "metadata": {
    "collapsed": false
   },
   "outputs": [
    {
     "name": "stdout",
     "output_type": "stream",
     "text": [
      "577 314\n"
     ]
    }
   ],
   "source": [
    "import pandas\n",
    "data = pandas.read_csv('titanic.csv', index_col='PassengerId')\n",
    "#Какое количество мужчин и женщин ехало на корабле? В качестве ответа приведите два числа через пробел.\n",
    "# get count of all male and female\n",
    "people = data['Sex'].value_counts()\n",
    "#print count of male, than count of female\n",
    "print(people[0], end = ' ')\n",
    "print(people[1])"
   ]
  },
  {
   "cell_type": "code",
   "execution_count": 39,
   "metadata": {
    "collapsed": false
   },
   "outputs": [
    {
     "name": "stdout",
     "output_type": "stream",
     "text": [
      "38.38\n"
     ]
    }
   ],
   "source": [
    "#Какой части пассажиров удалось выжить?\n",
    "# get count of survived\n",
    "survived = data['Survived'].value_counts()\n",
    "#find percent of survived\n",
    "percent_s = round(survived[1]*100/(survived[0]+survived[1]), 2)\n",
    "print(percent_s)"
   ]
  },
  {
   "cell_type": "code",
   "execution_count": 40,
   "metadata": {
    "collapsed": false
   },
   "outputs": [
    {
     "name": "stdout",
     "output_type": "stream",
     "text": [
      "24.24\n"
     ]
    }
   ],
   "source": [
    "#Какую долю пассажиры первого класса составляли среди всех пассажиров?\n",
    "# get count of class\n",
    "cl = data['Pclass'].value_counts()\n",
    "#find percent of 1-st class\n",
    "percent_c = round(cl[1]*100/(cl[1]+cl[2]+cl[3]), 2)\n",
    "print(percent_c)"
   ]
  },
  {
   "cell_type": "code",
   "execution_count": 49,
   "metadata": {
    "collapsed": false
   },
   "outputs": [
    {
     "name": "stdout",
     "output_type": "stream",
     "text": [
      "29.7 28.0\n"
     ]
    }
   ],
   "source": [
    "#Какого возраста были пассажиры?\n",
    "#calculate meam of age\n",
    "age_mean = round(data['Age'].mean(), 2)\n",
    "#calculate median of age\n",
    "age_median = data['Age'].median()\n",
    "print(age_mean, end = ' ')\n",
    "print(age_median)"
   ]
  },
  {
   "cell_type": "code",
   "execution_count": 60,
   "metadata": {
    "collapsed": false
   },
   "outputs": [
    {
     "name": "stdout",
     "output_type": "stream",
     "text": [
      "0.41\n"
     ]
    }
   ],
   "source": [
    "#Коррелируют ли число братьев/сестер с числом родителей/детей?\n",
    "corr = round(data['SibSp'].corr(data['Parch']), 2)\n",
    "print(corr)"
   ]
  },
  {
   "cell_type": "code",
   "execution_count": 163,
   "metadata": {
    "collapsed": false
   },
   "outputs": [
    {
     "name": "stdout",
     "output_type": "stream",
     "text": [
      "['Mary', 'Anna']\n"
     ]
    }
   ],
   "source": [
    "#Какое самое популярное женское имя на корабле?\n",
    "#get all names\n",
    "names = data['Name']\n",
    "gender = data['Sex']\n",
    "female_names = []\n",
    "for i in range(1, len(names)+1):\n",
    "    if gender[i] != 'male':\n",
    "        if 'Mrs.' in names[i]:\n",
    "            female_names.append(names[i].split('Mrs. ')[1])\n",
    "        elif 'Mme.' in names[i]: \n",
    "            female_names.append(names[i].split('Mme. ')[1])\n",
    "        elif 'Ms.' in names[i]: \n",
    "            female_names.append(names[i].split('Ms. ')[1])\n",
    "        elif 'Lady.' in names[i]: \n",
    "            female_names.append(names[i].split('Lady. ')[1])\n",
    "        elif 'Mlle.' in names[i]: \n",
    "            female_names.append(names[i].split('Mlle. ')[1])\n",
    "        elif 'Countess.' in names[i]: \n",
    "            female_names.append(names[i].split('Countess. ')[1])\n",
    "        elif 'Dr.' in names[i]: \n",
    "            female_names.append(names[i].split('Dr. ')[1])\n",
    "        else:\n",
    "            female_names.append(names[i].split('Miss. ')[1])\n",
    "            \n",
    "female_first_names = []\n",
    "result = {}\n",
    "import re\n",
    "for i in female_names:\n",
    "    if '(' in i:\n",
    "        sep = i.split('(')\n",
    "        n = re.sub(r'[^\\w]', ' ', sep[1].split(' ')[0]).strip()\n",
    "        female_first_names.append(n)\n",
    "        result[n] = female_first_names.count(n)\n",
    "    else:\n",
    "        female_first_names.append(i.split(' ')[0])\n",
    "        result[i.split(' ')[0]] = female_first_names.count(i.split(' ')[0])\n",
    "\n",
    "# print the most popular female names\n",
    "print([k for k, v in result.items() if v == max(result.values())])"
   ]
  },
  {
   "cell_type": "code",
   "execution_count": null,
   "metadata": {
    "collapsed": true
   },
   "outputs": [],
   "source": []
  }
 ],
 "metadata": {
  "kernelspec": {
   "display_name": "Python 3",
   "language": "python",
   "name": "python3"
  },
  "language_info": {
   "codemirror_mode": {
    "name": "ipython",
    "version": 3
   },
   "file_extension": ".py",
   "mimetype": "text/x-python",
   "name": "python",
   "nbconvert_exporter": "python",
   "pygments_lexer": "ipython3",
   "version": "3.5.1"
  }
 },
 "nbformat": 4,
 "nbformat_minor": 0
}
