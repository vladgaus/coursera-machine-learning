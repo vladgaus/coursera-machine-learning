{
 "cells": [
  {
   "cell_type": "code",
   "execution_count": 1,
   "metadata": {
    "collapsed": false
   },
   "outputs": [
    {
     "name": "stdout",
     "output_type": "stream",
     "text": [
      "0.36\n",
      "0.925\n",
      "0.565\n"
     ]
    }
   ],
   "source": [
    "import pandas\n",
    "import numpy as np\n",
    "from sklearn.linear_model import Perceptron\n",
    "from sklearn.preprocessing import StandardScaler\n",
    "\n",
    "#get data\n",
    "df_test = pandas.read_csv('perceptron-test.csv', header=None)\n",
    "df_train = pandas.read_csv('perceptron-train.csv', header=None)\n",
    "\n",
    "#set columns\n",
    "df_test.columns=['Class', 'par1', 'par2']\n",
    "df_train.columns=['Class', 'par1', 'par2']\n",
    "\n",
    "#start learn perceptron (befor scale)\n",
    "X_test = np.array(df_test[['par1', 'par2']])\n",
    "y_test = np.array(df_test['Class'])\n",
    "X_train = np.array(df_train[['par1', 'par2']])\n",
    "y_train = np.array(df_train['Class'])\n",
    "\n",
    "clf = Perceptron(random_state=241)\n",
    "clf.fit(X_test, y_test)\n",
    "clf.fit(X_train, y_train)\n",
    "result_before_scale = clf.score(X_test, y_test)\n",
    "print(result_before_scale)\n",
    "\n",
    "# do scale\n",
    "scaler = StandardScaler()\n",
    "X_train_scaled = scaler.fit_transform(X_train)\n",
    "X_test_scaled = scaler.transform(X_test)\n",
    "\n",
    "# learn after scale\n",
    "\n",
    "clf.fit(X_test_scaled, y_test)\n",
    "clf.fit(X_train_scaled, y_train)\n",
    "\n",
    "result_after_scale = clf.score(X_test_scaled, y_test)\n",
    "print(result_after_scale)\n",
    "\n",
    "# calculate difference\n",
    "dif = round(result_after_scale - result_before_scale, 3)\n",
    "print(dif)\n",
    "\n",
    "# difference between accuracy before scale and after scale = 0.565"
   ]
  },
  {
   "cell_type": "code",
   "execution_count": null,
   "metadata": {
    "collapsed": true
   },
   "outputs": [],
   "source": []
  }
 ],
 "metadata": {
  "kernelspec": {
   "display_name": "Python 3",
   "language": "python",
   "name": "python3"
  },
  "language_info": {
   "codemirror_mode": {
    "name": "ipython",
    "version": 3
   },
   "file_extension": ".py",
   "mimetype": "text/x-python",
   "name": "python",
   "nbconvert_exporter": "python",
   "pygments_lexer": "ipython3",
   "version": "3.5.1"
  }
 },
 "nbformat": 4,
 "nbformat_minor": 0
}
