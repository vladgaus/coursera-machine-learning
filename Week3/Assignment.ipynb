{
 "cells": [
  {
   "cell_type": "code",
   "execution_count": 16,
   "metadata": {
    "collapsed": false
   },
   "outputs": [
    {
     "name": "stdout",
     "output_type": "stream",
     "text": [
      "[[ 0.7   0.29]\n",
      " [ 0.23  0.55]\n",
      " [ 0.72  0.42]\n",
      " [ 0.98  0.68]\n",
      " [ 0.48  0.39]\n",
      " [ 0.34  0.73]\n",
      " [ 0.44  0.06]\n",
      " [ 0.4   0.74]\n",
      " [ 0.18  0.18]\n",
      " [ 0.53  0.53]]\n",
      "\n",
      "[[ 0.98  0.68]\n",
      " [ 0.48  0.39]\n",
      " [ 0.53  0.53]]\n"
     ]
    }
   ],
   "source": [
    "import pandas\n",
    "import numpy as np\n",
    "from sklearn.svm import SVC\n",
    "\n",
    "#get data\n",
    "df = pandas.read_csv('svm-data.csv', header=None)\n",
    "\n",
    "# prepare columns\n",
    "df.columns=['Class', 'par1', 'par2']\n",
    "\n",
    "# prepare features\n",
    "X = np.array(df[['par1', 'par2']])\n",
    "y = np.array(df['Class'])\n",
    "print(X)\n",
    "print()\n",
    "# create SVM\n",
    "clf = SVC(kernel='linear', C = 100000, random_state=241)\n",
    "clf.fit(X, y) \n",
    "print(clf.support_vectors_)\n",
    "# We can see, that support vectors are vectors with numbers (index start from 1): 4, 5, 10"
   ]
  },
  {
   "cell_type": "code",
   "execution_count": null,
   "metadata": {
    "collapsed": true
   },
   "outputs": [],
   "source": []
  }
 ],
 "metadata": {
  "kernelspec": {
   "display_name": "Python 3",
   "language": "python",
   "name": "python3"
  },
  "language_info": {
   "codemirror_mode": {
    "name": "ipython",
    "version": 3
   },
   "file_extension": ".py",
   "mimetype": "text/x-python",
   "name": "python",
   "nbconvert_exporter": "python",
   "pygments_lexer": "ipython3",
   "version": "3.5.1"
  }
 },
 "nbformat": 4,
 "nbformat_minor": 0
}
