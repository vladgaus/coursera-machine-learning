{
 "cells": [
  {
   "cell_type": "code",
   "execution_count": 4,
   "metadata": {
    "collapsed": false
   },
   "outputs": [
    {
     "name": "stdout",
     "output_type": "stream",
     "text": [
      "{'C': 10, 'kernel': 'linear'}\n",
      "nick\t1.0899040656\n",
      "keith\t1.10719566752\n",
      "bible\t1.126690662\n",
      "religion\t1.15585139495\n",
      "sky\t1.19599660331\n",
      "moon\t1.24846413748\n",
      "atheists\t1.2572771582\n",
      "atheism\t1.29997058932\n",
      "god\t1.97206528531\n",
      "space\t2.72025270605\n",
      "_______________________________________________\n",
      "Result: \n",
      "atheism atheists bible god keith moon nick religion sky space "
     ]
    }
   ],
   "source": [
    "import pandas\n",
    "import numpy as np\n",
    "from sklearn import datasets, grid_search\n",
    "from sklearn.feature_extraction.text import TfidfVectorizer\n",
    "from sklearn.cross_validation import KFold\n",
    "from sklearn.svm import SVC\n",
    "\n",
    "#get data\n",
    "newsgroups = datasets.fetch_20newsgroups(subset='all', categories=['alt.atheism', 'sci.space'])\n",
    "\n",
    "# convert to TF-IDF format and prepare data to train\n",
    "vectorizer = TfidfVectorizer()\n",
    "X = vectorizer.fit_transform(newsgroups.data)\n",
    "y = np.array(newsgroups.target)\n",
    "\n",
    "# start search the best parameters\n",
    "kf = KFold(len(y), n_folds=5, random_state=241)\n",
    "steps = [10**(-5), 10**(-4), 10**(-3), 10**(-2), 10**(-1), 1, 10, 10**2, 10**3, 10**4, 10**5]\n",
    "tuned_parameters = [{'kernel': ['linear'], 'C': steps}]\n",
    "clf = grid_search.GridSearchCV(SVC(random_state=241), tuned_parameters, cv=kf)\n",
    "clf.fit(X, y)\n",
    "print(clf.best_params_)\n",
    "\n",
    "#We can see, that the best C =10\n",
    "C_best = clf.best_params_['C']\n",
    "\n",
    "# start train ith the best parameters\n",
    "X = vectorizer.transform(newsgroups.data)\n",
    "y = np.array(newsgroups.target)\n",
    "clf = SVC(random_state=241, C=C_best, kernel = 'linear')\n",
    "clf.fit(X, y)\n",
    "\n",
    "# this only for usefull - save first 10 words here with the biffest value (abs)\n",
    "result = {}\n",
    "\n",
    "# create function to convert coef_ to words\n",
    "def most_informative_feature_for_class_svm(vectorizer, classifier,  n=10):\n",
    "    '''\n",
    "    vectorizer - our class TfidfVectorizer\n",
    "    clssifier - SVC()\n",
    "    n - count of first words with the biggest value (default 10)\n",
    "    '''\n",
    "    labelid = 0 # this is the coef we're interested in. \n",
    "    feature_names = vectorizer.get_feature_names()\n",
    "    svm_coef = classifier.coef_.toarray() \n",
    "    topn = sorted(zip(abs(svm_coef[labelid]), feature_names))[-n:]\n",
    "    for coef, feat in topn:\n",
    "        print(feat, end = '\\t')\n",
    "        print(coef)\n",
    "        result[feat] = coef\n",
    "\n",
    "# show parameters\n",
    "most_informative_feature_for_class_svm(vectorizer, clf)\n",
    "\n",
    "print('_______________________________________________')\n",
    "\n",
    "# sort result (for answer)\n",
    "result = sorted(result)\n",
    "print('Result: ')\n",
    "for i in result:\n",
    "    print(i, end = ' ')"
   ]
  },
  {
   "cell_type": "code",
   "execution_count": null,
   "metadata": {
    "collapsed": true
   },
   "outputs": [],
   "source": []
  }
 ],
 "metadata": {
  "kernelspec": {
   "display_name": "Python 3",
   "language": "python",
   "name": "python3"
  },
  "language_info": {
   "codemirror_mode": {
    "name": "ipython",
    "version": 3
   },
   "file_extension": ".py",
   "mimetype": "text/x-python",
   "name": "python",
   "nbconvert_exporter": "python",
   "pygments_lexer": "ipython3",
   "version": "3.5.1"
  }
 },
 "nbformat": 4,
 "nbformat_minor": 0
}
